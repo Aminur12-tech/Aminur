{
  "nbformat": 4,
  "nbformat_minor": 0,
  "metadata": {
    "colab": {
      "provenance": [],
      "authorship_tag": "ABX9TyPzl0eenF/lK3cDmUIFSr4V",
      "include_colab_link": true
    },
    "kernelspec": {
      "name": "python3",
      "display_name": "Python 3"
    },
    "language_info": {
      "name": "python"
    }
  },
  "cells": [
    {
      "cell_type": "markdown",
      "metadata": {
        "id": "view-in-github",
        "colab_type": "text"
      },
      "source": [
        "<a href=\"https://colab.research.google.com/github/Aminur12-tech/Aminur/blob/main/Banana_Disease_Prediction.ipynb\" target=\"_parent\"><img src=\"https://colab.research.google.com/assets/colab-badge.svg\" alt=\"Open In Colab\"/></a>"
      ]
    },
    {
      "cell_type": "code",
      "source": [
        "from google.colab import drive\n",
        "drive.mount('/content/drive')"
      ],
      "metadata": {
        "colab": {
          "base_uri": "https://localhost:8080/"
        },
        "id": "vxpVh-qncTcK",
        "outputId": "dad3c8b6-58fe-45f0-a4e4-81474a67b653"
      },
      "execution_count": null,
      "outputs": [
        {
          "output_type": "stream",
          "name": "stdout",
          "text": [
            "Mounted at /content/drive\n"
          ]
        }
      ]
    },
    {
      "cell_type": "code",
      "source": [
        "# Import necessary libraries\n",
        "import cv2\n",
        "import numpy as np\n",
        "import os\n",
        "from sklearn.model_selection import train_test_split\n",
        "from keras.utils import to_categorical\n",
        "from sklearn.ensemble import RandomForestClassifier\n",
        "from sklearn.metrics import accuracy_score, classification_report\n",
        "import matplotlib.pyplot as plt\n",
        "from scipy import stats"
      ],
      "metadata": {
        "id": "qIWi7vhmcg55"
      },
      "execution_count": null,
      "outputs": []
    },
    {
      "cell_type": "code",
      "source": [
        "# Define image size\n",
        "SIZE = 150\n",
        "\n",
        "# Define labels and corresponding folder names\n",
        "labels = ['BACTERIAL_SOFT_ROT', 'BANANA_APHIDS', 'BANANA_FRUIT_SCARRING_BEETLE',\n",
        "          'BLACK_SIGATOKA', 'PANAMA_DISEASE', 'PSEUDOSTEM_WEEVIL', 'YELLOW_SIGATOKA']\n",
        "\n",
        "# Initialize lists for images, labels, and HSV features\n",
        "images = []\n",
        "encoded_labels = []\n",
        "hsv_features = []\n",
        "\n",
        "# Load images, encode labels, and extract HSV features\n",
        "for label_idx, label in enumerate(labels):\n",
        "    folder_path = f'/content/drive/MyDrive/dataset for bca/train/{label}'\n",
        "    for image_file in os.listdir(folder_path):\n",
        "        image = cv2.imread(os.path.join(folder_path, image_file))\n",
        "        if image is not None:\n",
        "            # Define the lower and upper bounds for green color in HSV\n",
        "            lower_green = np.array([40, 40, 40])\n",
        "            upper_green = np.array([80, 255, 255])\n",
        "\n",
        "            # Create a mask and apply to the image\n",
        "            mask = cv2.inRange(image, lower_green, upper_green)\n",
        "            image = cv2.bitwise_and(image, image, mask=mask)\n",
        "\n",
        "            # Resize image and add to list\n",
        "            image = cv2.resize(image, (SIZE, SIZE))\n",
        "            images.append(image)\n",
        "            encoded_labels.append(label_idx)\n",
        "            hsv_image = cv2.cvtColor(image, cv2.COLOR_BGR2HSV)\n",
        "            hsv_features.append(hsv_image.flatten())\n"
      ],
      "metadata": {
        "id": "T0jJ8lZfclq4"
      },
      "execution_count": null,
      "outputs": []
    },
    {
      "cell_type": "code",
      "source": [
        "# Convert lists to arrays\n",
        "images = np.array(images)\n",
        "encoded_labels = np.array(encoded_labels)\n",
        "hsv_features = np.array(hsv_features)\n",
        "\n",
        "# One-hot encode labels\n",
        "encoded_labels = to_categorical(encoded_labels)\n"
      ],
      "metadata": {
        "id": "pGRM3SwhdB9q"
      },
      "execution_count": null,
      "outputs": []
    },
    {
      "cell_type": "markdown",
      "source": [
        "DESCRIPTIVE STATISTICS\n"
      ],
      "metadata": {
        "id": "GZIGcJgxj5Ye"
      }
    },
    {
      "cell_type": "code",
      "source": [
        "# Descriptive Statistics\n",
        "\n",
        "# Convert images to HSV and flatten to analyze color distribution\n",
        "all_hsv_images = [cv2.cvtColor(img, cv2.COLOR_BGR2HSV).flatten() for img in images]\n",
        "all_hsv_images = np.array(all_hsv_images)\n",
        "\n",
        "# Descriptive statistics for each HSV channel\n",
        "hue_mean = np.mean(all_hsv_images[:, :SIZE*SIZE])\n",
        "hue_median = np.median(all_hsv_images[:, :SIZE*SIZE])\n",
        "hue_std = np.std(all_hsv_images[:, :SIZE*SIZE])\n",
        "hue_skew = stats.skew(all_hsv_images[:, :SIZE*SIZE])\n",
        "hue_kurtosis = stats.kurtosis(all_hsv_images[:, :SIZE*SIZE])\n",
        "\n",
        "sat_mean = np.mean(all_hsv_images[:, SIZE*SIZE:2*SIZE*SIZE])\n",
        "sat_median = np.median(all_hsv_images[:, SIZE*SIZE:2*SIZE*SIZE])\n",
        "sat_std = np.std(all_hsv_images[:, SIZE*SIZE:2*SIZE*SIZE])\n",
        "sat_skew = stats.skew(all_hsv_images[:, SIZE*SIZE:2*SIZE*SIZE])\n",
        "sat_kurtosis = stats.kurtosis(all_hsv_images[:, SIZE*SIZE:2*SIZE*SIZE])\n",
        "\n",
        "val_mean = np.mean(all_hsv_images[:, 2*SIZE*SIZE:])\n",
        "val_median = np.median(all_hsv_images[:, 2*SIZE*SIZE:])\n",
        "val_std = np.std(all_hsv_images[:, 2*SIZE*SIZE:])\n",
        "val_skew = stats.skew(all_hsv_images[:, 2*SIZE*SIZE:])\n",
        "val_kurtosis = stats.kurtosis(all_hsv_images[:, 2*SIZE*SIZE:])\n"
      ],
      "metadata": {
        "id": "klb1CQKldGPo"
      },
      "execution_count": null,
      "outputs": []
    },
    {
      "cell_type": "code",
      "source": [
        "# Print descriptive statistics\n",
        "print(\"Hue - Mean:\", hue_mean, \"\\n Median:\", hue_median, \"\\n Std Dev:\", hue_std, \"\\n Skew:\", hue_skew, \"\\n Kurtosis:\", hue_kurtosis)\n",
        "print(\"\\nSaturation - Mean:\", sat_mean, \"\\n Median:\", sat_median, \"\\n Std Dev:\", sat_std, \"\\n Skew:\", sat_skew, \"\\n Kurtosis:\", sat_kurtosis)\n",
        "print(\"\\nValue - Mean:\", val_mean, \"\\n Median:\", val_median, \"\\n Std Dev:\", val_std, \"\\n Skew:\", val_skew, \"\\n Kurtosis:\", val_kurtosis)\n",
        "\n",
        "# Analyze the class distribution\n",
        "unique, counts = np.unique(encoded_labels.argmax(axis=1), return_counts=True)\n",
        "class_distribution = dict(zip(labels, counts))\n",
        "print(\"Class Distribution:\", class_distribution)\n"
      ],
      "metadata": {
        "colab": {
          "base_uri": "https://localhost:8080/"
        },
        "id": "oLp8boCjdKIA",
        "outputId": "c8c08f29-ed31-4b59-e8e8-6f3f0f01877e"
      },
      "execution_count": null,
      "outputs": [
        {
          "output_type": "stream",
          "name": "stdout",
          "text": [
            "Hue - Mean: 6.056643144677897 \n",
            " Median: 0.0 \n",
            " Std Dev: 25.36302819860552 \n",
            " Skew: [8.0074116  4.51521362 4.02394962 ... 6.94942208 5.64508812 4.39926282] \n",
            " Kurtosis: [95.42334232 18.93795888 16.21144618 ... 60.71539577 31.73371815\n",
            " 20.77926833]\n",
            "\n",
            "Saturation - Mean: 10.9120053504953 \n",
            " Median: 0.0 \n",
            " Std Dev: 32.88530074251653 \n",
            " Skew: [8.22501026 5.31811803 4.1255705  ... 8.95164987 5.28602572 4.28694199] \n",
            " Kurtosis: [ 87.56539655  29.42576763  19.29819099 ... 104.66922013  27.8659037\n",
            "  19.84455225]\n",
            "\n",
            "Value - Mean: 6.328862565461543 \n",
            " Median: 0.0 \n",
            " Std Dev: 25.000488594565425 \n",
            " Skew: [7.20050628 7.69019545 5.12951572 ... 8.58496328 6.62090304 3.76977359] \n",
            " Kurtosis: [53.37322764 63.62314871 32.61471589 ... 94.95285191 47.61307569\n",
            " 14.82720079]\n",
            "Class Distribution: {'BACTERIAL_SOFT_ROT': 249, 'BANANA_APHIDS': 252, 'BANANA_FRUIT_SCARRING_BEETLE': 252, 'BLACK_SIGATOKA': 252, 'PANAMA_DISEASE': 252, 'PSEUDOSTEM_WEEVIL': 252, 'YELLOW_SIGATOKA': 252}\n"
          ]
        }
      ]
    },
    {
      "cell_type": "markdown",
      "source": [
        "APPLYING RANDOM FOREST"
      ],
      "metadata": {
        "id": "rK947PXXkFJ2"
      }
    },
    {
      "cell_type": "code",
      "source": [
        "# Split the data into training and validation sets\n",
        "x_train, x_val, y_train, y_val, hsv_train, hsv_val = train_test_split(images, encoded_labels, hsv_features, test_size=0.1, random_state=101)\n",
        "\n",
        "# Flatten x_train to match the shape of hsv_train\n",
        "x_train_flattened = x_train.reshape((x_train.shape[0], -1))\n",
        "hsv_features_train = np.concatenate((x_train_flattened, hsv_train), axis=1)\n",
        "\n",
        "# Repeat the same for x_val\n",
        "x_val_flattened = x_val.reshape((x_val.shape[0], -1))\n",
        "hsv_features_val = np.concatenate((x_val_flattened, hsv_val), axis=1)"
      ],
      "metadata": {
        "id": "UtU6eVBXdQ0f"
      },
      "execution_count": null,
      "outputs": []
    },
    {
      "cell_type": "code",
      "source": [
        "\n",
        "# Define and train the Random Forest classifier\n",
        "rf_classifier = RandomForestClassifier(n_estimators=100, random_state=42)\n",
        "rf_classifier.fit(hsv_features_train, y_train)\n",
        "\n",
        "# Evaluate the Random Forest classifier\n",
        "rf_train_accuracy = accuracy_score(y_train, rf_classifier.predict(hsv_features_train))\n",
        "rf_val_accuracy = accuracy_score(y_val, rf_classifier.predict(hsv_features_val))"
      ],
      "metadata": {
        "id": "pGJ9PT0Bde73"
      },
      "execution_count": null,
      "outputs": []
    },
    {
      "cell_type": "code",
      "source": [
        "print(\"Random Forest Classifier Train Accuracy:\", rf_train_accuracy)\n",
        "print(\"Random Forest Classifier Validation Accuracy:\", rf_val_accuracy)\n"
      ],
      "metadata": {
        "colab": {
          "base_uri": "https://localhost:8080/"
        },
        "id": "BuoWs1v1dkQw",
        "outputId": "69651623-63d4-42bd-8b57-eb1eff7d6ecd"
      },
      "execution_count": null,
      "outputs": [
        {
          "output_type": "stream",
          "name": "stdout",
          "text": [
            "Random Forest Classifier Train Accuracy: 0.9343434343434344\n",
            "Random Forest Classifier Validation Accuracy: 0.3446327683615819\n"
          ]
        }
      ]
    },
    {
      "cell_type": "code",
      "source": [
        "# Get predictions and generate classification reports\n",
        "train_predictions = rf_classifier.predict(hsv_features_train)\n",
        "val_predictions = rf_classifier.predict(hsv_features_val)\n",
        "\n",
        "train_classification_report = classification_report(y_train, train_predictions)\n",
        "val_classification_report = classification_report(y_val, val_predictions)\n",
        "\n",
        "# Print classification reports\n",
        "print(\"Classification Report for Training Set:\\n\", train_classification_report)\n",
        "print(\"\\nClassification Report for Validation Set:\\n\", val_classification_report)"
      ],
      "metadata": {
        "colab": {
          "base_uri": "https://localhost:8080/"
        },
        "id": "ilgUXveVeqLQ",
        "outputId": "1c8a567d-b429-47e9-c24f-774316293cb5"
      },
      "execution_count": null,
      "outputs": [
        {
          "output_type": "stream",
          "name": "stdout",
          "text": [
            "Classification Report for Training Set:\n",
            "               precision    recall  f1-score   support\n",
            "\n",
            "           0       1.00      0.77      0.87       224\n",
            "           1       1.00      0.94      0.97       232\n",
            "           2       1.00      1.00      1.00       227\n",
            "           3       1.00      0.96      0.98       224\n",
            "           4       1.00      0.92      0.96       221\n",
            "           5       1.00      0.95      0.97       223\n",
            "           6       1.00      1.00      1.00       233\n",
            "\n",
            "   micro avg       1.00      0.93      0.97      1584\n",
            "   macro avg       1.00      0.93      0.96      1584\n",
            "weighted avg       1.00      0.93      0.96      1584\n",
            " samples avg       0.93      0.93      0.93      1584\n",
            "\n",
            "\n",
            "Classification Report for Validation Set:\n",
            "               precision    recall  f1-score   support\n",
            "\n",
            "           0       0.60      0.12      0.20        25\n",
            "           1       1.00      0.65      0.79        20\n",
            "           2       1.00      0.76      0.86        25\n",
            "           3       1.00      0.32      0.49        28\n",
            "           4       1.00      0.10      0.18        31\n",
            "           5       1.00      0.41      0.59        29\n",
            "           6       1.00      0.11      0.19        19\n",
            "\n",
            "   micro avg       0.97      0.34      0.51       177\n",
            "   macro avg       0.94      0.35      0.47       177\n",
            "weighted avg       0.94      0.34      0.46       177\n",
            " samples avg       0.34      0.34      0.34       177\n",
            "\n"
          ]
        },
        {
          "output_type": "stream",
          "name": "stderr",
          "text": [
            "/usr/local/lib/python3.10/dist-packages/sklearn/metrics/_classification.py:1531: UndefinedMetricWarning: Precision is ill-defined and being set to 0.0 in samples with no predicted labels. Use `zero_division` parameter to control this behavior.\n",
            "  _warn_prf(average, modifier, f\"{metric.capitalize()} is\", len(result))\n",
            "/usr/local/lib/python3.10/dist-packages/sklearn/metrics/_classification.py:1531: UndefinedMetricWarning: Precision is ill-defined and being set to 0.0 in samples with no predicted labels. Use `zero_division` parameter to control this behavior.\n",
            "  _warn_prf(average, modifier, f\"{metric.capitalize()} is\", len(result))\n"
          ]
        }
      ]
    },
    {
      "cell_type": "code",
      "source": [
        "# Plotting accuracy values\n",
        "labels_acc = ['Training Accuracy', 'Validation Accuracy']\n",
        "accuracy_values = [rf_train_accuracy, rf_val_accuracy]\n",
        "\n",
        "plt.bar(labels_acc, accuracy_values, color=['blue', 'green'])\n",
        "plt.title('Random Forest Classifier Accuracy')\n",
        "plt.ylabel('Accuracy')\n",
        "plt.ylim(0, 1)  # Set y-axis limit to 0-1 for accuracy values\n",
        "plt.show()"
      ],
      "metadata": {
        "colab": {
          "base_uri": "https://localhost:8080/",
          "height": 452
        },
        "id": "PLUARJwue4oH",
        "outputId": "f9623376-af48-4f44-a089-f36e09a9f3fe"
      },
      "execution_count": null,
      "outputs": [
        {
          "output_type": "display_data",
          "data": {
            "text/plain": [
              "<Figure size 640x480 with 1 Axes>"
            ],
            "image/png": "[encoded data removed]"
          },
          "metadata": {}
        }
      ]
    },
    {
      "cell_type": "code",
      "source": [
        "# Function to predict disease from a single image\n",
        "def predict_disease(image_path):\n",
        "    # Load image\n",
        "    image = cv2.imread(image_path)\n",
        "    if image is None:\n",
        "        print(\"Image not found.\")\n",
        "        return\n",
        "\n",
        "    # Define the lower and upper bounds for green color in HSV (used in training)\n",
        "    lower_green = np.array([40, 40, 40])\n",
        "    upper_green = np.array([80, 255, 255])\n",
        "\n",
        "    # Create a mask and apply to the image\n",
        "    mask = cv2.inRange(image, lower_green, upper_green)\n",
        "    image = cv2.bitwise_and(image, image, mask=mask)\n",
        "\n",
        "    # Resize image\n",
        "    image = cv2.resize(image, (SIZE, SIZE))\n",
        "\n",
        "    # Convert to HSV and flatten\n",
        "    hsv_image = cv2.cvtColor(image, cv2.COLOR_BGR2HSV)\n",
        "    hsv_features = hsv_image.flatten()\n",
        "\n",
        "    # Flatten the image itself\n",
        "    image_flattened = image.flatten()\n",
        "\n",
        "    # Concatenate flattened image and HSV features\n",
        "    combined_features = np.concatenate((image_flattened, hsv_features)).reshape(1, -1)\n",
        "\n",
        "    # Predict with the Random Forest classifier\n",
        "    prediction = rf_classifier.predict(combined_features)\n",
        "    predicted_label = labels[np.argmax(prediction)]\n",
        "\n",
        "    print(\"Predicted Disease:\", predicted_label)\n",
        "\n",
        "# Example usage\n",
        "image_path = '/content/drive/MyDrive/dataset for bca/test/BACTERIAL_SOFT_ROT/SOFT_ROT  A1 (15).jpg'  # Replace with the path to the test image\n",
        "predict_disease(image_path)"
      ],
      "metadata": {
        "colab": {
          "base_uri": "https://localhost:8080/"
        },
        "id": "kWTNuACeKZgV",
        "outputId": "c1043d54-bb45-41eb-c532-ce71c2296003"
      },
      "execution_count": null,
      "outputs": [
        {
          "output_type": "stream",
          "name": "stdout",
          "text": [
            "Predicted Disease: BACTERIAL_SOFT_ROT\n"
          ]
        }
      ]
    }
  ]
}